{
 "cells": [
  {
   "cell_type": "code",
   "execution_count": 1,
   "metadata": {},
   "outputs": [],
   "source": [
    "import numpy as np\n",
    "import matplotlib.pyplot as plt\n",
    "from dscribe.descriptors import SOAP \n",
    "from sklearn.metrics import r2_score #optional\n",
    "from KernelFunctions import *\n",
    "from MoleculeClasses import *"
   ]
  },
  {
   "cell_type": "markdown",
   "metadata": {},
   "source": [
    "## Load data\n",
    "Only 100 training and testing examples for expediency"
   ]
  },
  {
   "cell_type": "code",
   "execution_count": 2,
   "metadata": {},
   "outputs": [],
   "source": [
    "trainingSetSize = 100\n",
    "testingSetSize = 100\n",
    "\n",
    "alpha = Polarizability(np.load('alpha_MDA.npy')[:trainingSetSize,:,:])\n",
    "geom = np.load('coord_MDA.npy')[:trainingSetSize,:,:]\n",
    "\n",
    "alpha_test = Polarizability(np.load('alpha_MDA_test.npy')[:testingSetSize,:,:])\n",
    "geom_test = np.load('coord_MDA_test.npy')[:testingSetSize,:,:]"
   ]
  },
  {
   "cell_type": "markdown",
   "metadata": {},
   "source": [
    "We next split the polarizabilities into isotropic and anisotropic components"
   ]
  },
  {
   "cell_type": "code",
   "execution_count": 3,
   "metadata": {},
   "outputs": [],
   "source": [
    "iso, aniso = alpha.process_alpha()\n",
    "iso_test, aniso_test = alpha_test.process_alpha()"
   ]
  },
  {
   "cell_type": "markdown",
   "metadata": {},
   "source": [
    "## ML representations\n",
    "\n",
    "Below, we define the representation for ML and define the bonds that will be used in ML"
   ]
  },
  {
   "cell_type": "code",
   "execution_count": 4,
   "metadata": {},
   "outputs": [],
   "source": [
    "species = [\"H\", \"C\", \"O\"]\n",
    "r_cut = 6.0\n",
    "n_max = 6\n",
    "l_max = 4\n",
    "\n",
    "soap = SOAP(species=species, periodic=False,\n",
    "    r_cut=r_cut, n_max=n_max, l_max=l_max)\n",
    "\n",
    "# List includes both O-H bonds in MDA\n",
    "bonds = [[0, 1], [0, 2], [0, 5], [1, 3], [1, 7], [3, 4], [3, 8], [4, 6], [2, 6]]"
   ]
  },
  {
   "cell_type": "markdown",
   "metadata": {},
   "source": [
    "We next create the training and testing sets and obtain the corresponding features"
   ]
  },
  {
   "cell_type": "code",
   "execution_count": 5,
   "metadata": {},
   "outputs": [],
   "source": [
    "training_set = Molecules('CCOCOHHHH',geom)\n",
    "testing_set = Molecules('CCOCOHHHH',geom_test)"
   ]
  },
  {
   "cell_type": "code",
   "execution_count": 6,
   "metadata": {},
   "outputs": [],
   "source": [
    "train_features, train_RR = training_set.get_bond_features(soap,bonds,Nfeatures=855)\n",
    "test_features, test_RR = testing_set.get_bond_features(soap,bonds,Nfeatures=855)"
   ]
  },
  {
   "cell_type": "markdown",
   "metadata": {},
   "source": [
    "## Machine Learning\n",
    "### Isotropic part\n",
    "\n",
    "We first machine learn (get the weights) for the isotropic part"
   ]
  },
  {
   "cell_type": "code",
   "execution_count": 7,
   "metadata": {},
   "outputs": [],
   "source": [
    "gamma = 1e-5 \n",
    "\n",
    "weights_iso = get_scalar_weights(train_features,iso,gamma)"
   ]
  },
  {
   "cell_type": "markdown",
   "metadata": {},
   "source": [
    "We can then predict and assess the isotropic polarizability for the testing set"
   ]
  },
  {
   "cell_type": "code",
   "execution_count": 8,
   "metadata": {},
   "outputs": [],
   "source": [
    "scalarKernel = get_scalar_kernel(test_features,train_features,gamma)\n",
    "\n",
    "iso_predicted = scalarKernel @ weights_iso"
   ]
  },
  {
   "cell_type": "code",
   "execution_count": 9,
   "metadata": {},
   "outputs": [
    {
     "name": "stdout",
     "output_type": "stream",
     "text": [
      "RMSE = 0.08959217190310693 a.u.\n",
      "R2 = 0.9829950742378707\n"
     ]
    },
    {
     "data": {
      "image/png": "[encoded data removed]",
      "text/plain": [
       "<Figure size 432x288 with 1 Axes>"
      ]
     },
     "metadata": {
      "needs_background": "light"
     },
     "output_type": "display_data"
    }
   ],
   "source": [
    "plt.scatter(iso_test,iso_predicted,color='navy')\n",
    "plt.plot([45,51],[45,51],color='red')\n",
    "\n",
    "plt.xlabel('DFT isotropic polar. (a.u.)')\n",
    "plt.ylabel('ML isotropic polar. (a.u.)')\n",
    "\n",
    "\n",
    "print(f'RMSE = {rmse(iso_test,iso_predicted)} a.u.')\n",
    "print(f'R2 = {r2_score(iso_test,iso_predicted)}')"
   ]
  },
  {
   "cell_type": "markdown",
   "metadata": {},
   "source": [
    "### Anisotropic part\n",
    "We next repeat it for the anisotropic components. We first get the weights:"
   ]
  },
  {
   "cell_type": "code",
   "execution_count": 10,
   "metadata": {},
   "outputs": [],
   "source": [
    "weights_aniso = get_tensor_weights(train_features,np.reshape(aniso,(trainingSetSize,9)),gamma,train_RR)\n"
   ]
  },
  {
   "cell_type": "markdown",
   "metadata": {},
   "source": [
    "We then predict the {xx,yy,zz,xy,xz,yz} components of the tensor on the training set"
   ]
  },
  {
   "cell_type": "code",
   "execution_count": 11,
   "metadata": {},
   "outputs": [],
   "source": [
    "beta_predicted = np.zeros((testingSetSize,6))\n",
    "q_list = [0,1,2,4,5,8]\n",
    "\n",
    "for kk, www in enumerate(q_list):\n",
    "\n",
    "    anisotropicKernel = get_tensor_kernel(test_features,train_features, test_RR[:,www,:],gamma)\n",
    "    \n",
    "    predicted = anisotropicKernel @ weights_aniso\n",
    "    beta_predicted[:,kk] = predicted[:,0]\n"
   ]
  },
  {
   "cell_type": "markdown",
   "metadata": {},
   "source": [
    "And compare them to the DFT values"
   ]
  },
  {
   "cell_type": "code",
   "execution_count": 12,
   "metadata": {},
   "outputs": [
    {
     "name": "stdout",
     "output_type": "stream",
     "text": [
      "RMSE (β$_{xx}$) = 0.7140457213712686 a.u.\n",
      "RMSE (β$_{xy}$) = 0.6278019105635693 a.u.\n",
      "RMSE (β$_{xz}$) = 0.8626834526355532 a.u.\n",
      "RMSE (β$_{yy}$) = 0.7463293333947315 a.u.\n",
      "RMSE (β$_{yz}$) = 0.6587457669848422 a.u.\n",
      "RMSE (β$_{zz}$) = 0.852781965868438 a.u.\n"
     ]
    },
    {
     "data": {
      "text/plain": [
       "Text(0, 0.5, 'ML β components (a.u.)')"
      ]
     },
     "execution_count": 12,
     "metadata": {},
     "output_type": "execute_result"
    },
    {
     "data": {
      "image/png": "[encoded data removed]",
      "text/plain": [
       "<Figure size 432x288 with 1 Axes>"
      ]
     },
     "metadata": {
      "needs_background": "light"
     },
     "output_type": "display_data"
    }
   ],
   "source": [
    "labels = ['β$_{xx}$','β$_{xy}$','β$_{xz}$','β$_{yy}$','β$_{yz}$','β$_{zz}$']   \n",
    "\n",
    "\n",
    "dft_aniso = np.reshape(aniso_test,(testingSetSize,9))\n",
    "\n",
    "for jjk in range(6):\n",
    "    \n",
    "    plt.scatter(dft_aniso[:,q_list[jjk]],beta_predicted[:,jjk],label=labels[jjk],s=5)\n",
    "    rmse_ = rmse(dft_aniso[:,q_list[jjk]],beta_predicted[:,jjk])\n",
    "    print('RMSE (' + labels[jjk] + ') = ' +  str(rmse_) +  ' a.u.')\n",
    "\n",
    "plt.plot([-20,20],[-20,20],color='black')\n",
    "plt.legend()\n",
    "\n",
    "plt.xlabel('DFT β components (a.u.)')\n",
    "plt.ylabel('ML β components (a.u.)')"
   ]
  },
  {
   "cell_type": "code",
   "execution_count": null,
   "metadata": {},
   "outputs": [],
   "source": []
  }
 ],
 "metadata": {
  "kernelspec": {
   "display_name": "Python 3",
   "language": "python",
   "name": "python3"
  },
  "language_info": {
   "codemirror_mode": {
    "name": "ipython",
    "version": 3
   },
   "file_extension": ".py",
   "mimetype": "text/x-python",
   "name": "python",
   "nbconvert_exporter": "python",
   "pygments_lexer": "ipython3",
   "version": "3.8.3"
  }
 },
 "nbformat": 4,
 "nbformat_minor": 4
}
